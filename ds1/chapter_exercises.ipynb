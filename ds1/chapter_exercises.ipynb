{
 "cells": [
  {
   "cell_type": "markdown",
   "metadata": {},
   "source": [
    "# Chapter 1 Exercises\n",
    "## Exercise 1.1\n",
    "## Subtitle\n",
    "### subsubtitle\n",
    "\n",
    "**bold**\n",
    "*italics*\n",
    "\n",
    "* bullet1\n",
    "* bullet2"
   ]
  },
  {
   "cell_type": "code",
   "execution_count": 6,
   "metadata": {},
   "outputs": [
    {
     "name": "stdout",
     "output_type": "stream",
     "text": [
      "The values: [4.87, 3.4, 3.02, 6.76, 5.55, 17.59, 2.77, 10.14, 6.7, 3.69, 4.89, 4.8, 0.75, 14.58, 3.33, 7.86, 2.16, 4.72, 4.42, 4.11]\n",
      "The mean: 5.81\n",
      "The median: 4.76\n"
     ]
    }
   ],
   "source": [
    "import numpy as np\n",
    "import matplotlib.pyplot as plt\n",
    "import math\n",
    "\n",
    "y = [4.87, 3.40, 3.02, 6.76, 5.55, 17.59, 2.77, 10.14, 6.70, 3.69,\n",
    "4.89, 4.80, 0.75, 14.58, 3.33, 7.86, 2.16, 4.72, 4.42, 4.11]\n",
    "\n",
    "min_value = np.amin(y)\n",
    "max_value = np.amax(y)\n",
    "print(\"The values: \", end='')\n",
    "print(y)\n",
    "print(\"The mean: \", end='')\n",
    "print(np.mean(y).round(2))\n",
    "print(\"The median: \", end='')\n",
    "print(np.median(y))"
   ]
  },
  {
   "cell_type": "code",
   "execution_count": 7,
   "metadata": {},
   "outputs": [
    {
     "data": {
      "image/png": "[encoded data removed]",
      "text/plain": [
       "<Figure size 432x288 with 1 Axes>"
      ]
     },
     "metadata": {
      "needs_background": "light"
     },
     "output_type": "display_data"
    }
   ],
   "source": [
    "plt.hist(x=y, \n",
    "         bins=np.arange(math.floor(min_value), math.ceil(max_value), 1), \n",
    "         color='darkgrey',alpha=1, rwidth=1, label='Experimental')\n",
    "plt.grid(axis='y', alpha=0.5)\n",
    "plt.xlabel('log-fold gene expressions')\n",
    "plt.ylabel('Frequency')\n",
    "plt.title('the expression of a specific gene for 20 people')\n",
    "plt.legend(loc='best')\n",
    "plt.show()"
   ]
  },
  {
   "cell_type": "markdown",
   "metadata": {},
   "source": [
    "## Exercise 1.7\n",
    "\n",
    "![title](exercise1_7.png)"
   ]
  },
  {
   "cell_type": "code",
   "execution_count": 8,
   "metadata": {},
   "outputs": [
    {
     "name": "stdout",
     "output_type": "stream",
     "text": [
      "The mean/first moment is: \n",
      "0.5\n",
      "The variance/second moment is: \n",
      "0.0833\n",
      "The skewness/third moment is: \n",
      "0\n",
      "The second central moment: \n",
      "The third central moment: \n"
     ]
    }
   ],
   "source": [
    "a = 0\n",
    "b = 1\n",
    "mean = ((a+b)/2)\n",
    "variance = (1/12)*(b-a)**2 #wikipedia https://en.wikipedia.org/wiki/Continuous_uniform_distribution\n",
    "print(\"The mean/first moment is: \")\n",
    "print(mean)\n",
    "\n",
    "print(\"The variance/second moment is: \")\n",
    "print(round(variance, 4))\n",
    "\n",
    "print(\"The skewness/third moment is: \")\n",
    "print(0) #wikipedia\n",
    "\n",
    "\n",
    "print(\"The second central moment: \")\n",
    "\n",
    "print(\"The third central moment: \")"
   ]
  },
  {
   "cell_type": "markdown",
   "id": "763da663",
   "metadata": {},
   "source": [
    "## 26-11\n",
    "Homework:   Read Chapter 2 (except 2.3); make Exercises 2.1, 2.2, 2.3, 2.4, 2.5, 2.6, (2.7), 2.8  \n",
    "Homework:   Read Chapter 2 up to section 2.1.3; make Exercises 1.4, 1.5, 1.7, 1.8, 1.9, 1.10, 2.6, 2.8"
   ]
  },
  {
   "cell_type": "code",
   "execution_count": 9,
   "id": "7beb1981",
   "metadata": {},
   "outputs": [
    {
     "data": {
      "image/png": "[encoded data removed]",
      "text/plain": [
       "<Figure size 432x288 with 1 Axes>"
      ]
     },
     "metadata": {
      "needs_background": "light"
     },
     "output_type": "display_data"
    }
   ],
   "source": [
    "y = [16,18,5,12,20,17,10,22,17,8,16,19,21,20,19,19,12,12,8,19,\n",
    "17,10,9,8,19,15,12,18,12,17,11,12,13,15,13,10,12,16,11,15,13,13]\n",
    "\n",
    "plt.hist(x=y, \n",
    "         bins=np.arange(math.floor(min_value), math.ceil(max_value), 1), \n",
    "         color='darkgrey',alpha=1, rwidth=1, label='Experimental')\n",
    "plt.grid(axis='y', alpha=0.5)\n",
    "plt.xlabel('gram')\n",
    "plt.ylabel('Frequency')\n",
    "plt.title('chest nuts weights')\n",
    "plt.legend(loc='best')\n",
    "plt.show()"
   ]
  }
 ],
 "metadata": {
  "kernelspec": {
   "display_name": "Python 3",
   "language": "python",
   "name": "python3"
  },
  "language_info": {
   "codemirror_mode": {
    "name": "ipython",
    "version": 3
   },
   "file_extension": ".py",
   "mimetype": "text/x-python",
   "name": "python",
   "nbconvert_exporter": "python",
   "pygments_lexer": "ipython3",
   "version": "3.9.7"
  }
 },
 "nbformat": 4,
 "nbformat_minor": 5
}
