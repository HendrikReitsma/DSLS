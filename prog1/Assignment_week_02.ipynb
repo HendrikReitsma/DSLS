{
 "cells": [
  {
   "cell_type": "markdown",
   "metadata": {},
   "source": [
    "# Week 02 Assignment glucose level data\n",
    "\n",
    "Welcome to week two of this course programming 1. You will learn about time related data wrangling with pandas and you will learn to visualize with bokeh. This week will be focussed around missing data. Concretely, you will preprocess the glucose json file using interpolation to impute in order to conduct visual analysis. Learning outcomes:\n",
    "\n",
    "- load a json dataset \n",
    "- typecast the Pandas DataFrame to appropiate data types\n",
    "- inspect the dataset for quality and metadata information\n",
    "- add a column with interpolated data in Pandas DataFrame\n",
    "- perform visual analysis\n",
    "\n",
    "The assignment consists of 6 parts:\n",
    "\n",
    "- [part 1: load the data](#0)\n",
    "     - [Exercise 1.1](#ex-11)\n",
    "- [part 2: prepare for inspection](#1)\n",
    "     - [Exercise 2.1](#ex-21)\n",
    "- [part 3: inspect the data](#2)\n",
    "     - [Exercise 3.1](#ex-31)\n",
    "- [part 4: interpolate the data](#3)\n",
    "     - [Exercise 4.1](#ex-41)\n",
    "- [part 5: visualize the data](#4)\n",
    "     - [Exercise 5.1](#ex-51)\n",
    "- [part 6: Challenge](#5)\n",
    "     - [Exercise 6.1](#ex-61)\n",
    "\n",
    "Part 1 and 5 are mandatory, part 6 is optional (bonus)\n",
    "To pass the assingnment you need to a score of 60%. \n"
   ]
  },
  {
   "cell_type": "markdown",
   "metadata": {},
   "source": [
    "<a name='0'></a>\n",
    "## Part 1: Load the data\n",
    "\n",
    "Instructions: Load the json datafile `glucose.json` into a pandas dataframe. Check your dataframe with a `.head()` to compare with the expected outcome\n",
    "\n",
    "<details>    \n",
    "<summary>\n",
    "    <font size=\"3\" color=\"darkgreen\"><b>Hints</b></font>\n",
    "</summary>\n",
    "<ul><li>json.load() method reads a file, pd.read_json converts it to a Pandas DataFrame</li>\n",
    "    <li>when loading into a Pandas DataFrame use records orientation </li>\n",
    "</ul>\n",
    "</details>\n",
    "\n",
    "<a name='ex-11'></a>\n",
    "### Code your solution"
   ]
  },
  {
   "cell_type": "code",
   "execution_count": 140,
   "metadata": {},
   "outputs": [
    {
     "data": {
      "text/html": [
       "<div>\n",
       "<style scoped>\n",
       "    .dataframe tbody tr th:only-of-type {\n",
       "        vertical-align: middle;\n",
       "    }\n",
       "\n",
       "    .dataframe tbody tr th {\n",
       "        vertical-align: top;\n",
       "    }\n",
       "\n",
       "    .dataframe thead th {\n",
       "        text-align: right;\n",
       "    }\n",
       "</style>\n",
       "<table border=\"1\" class=\"dataframe\">\n",
       "  <thead>\n",
       "    <tr style=\"text-align: right;\">\n",
       "      <th></th>\n",
       "      <th>ID</th>\n",
       "      <th>time</th>\n",
       "      <th>recordtype</th>\n",
       "      <th>glucose</th>\n",
       "    </tr>\n",
       "  </thead>\n",
       "  <tbody>\n",
       "    <tr>\n",
       "      <th>0</th>\n",
       "      <td>2845.0</td>\n",
       "      <td>2019-04-25 00:08</td>\n",
       "      <td>1</td>\n",
       "      <td>109</td>\n",
       "    </tr>\n",
       "    <tr>\n",
       "      <th>1</th>\n",
       "      <td>2850.0</td>\n",
       "      <td>2019-04-25 00:50</td>\n",
       "      <td>1</td>\n",
       "      <td></td>\n",
       "    </tr>\n",
       "    <tr>\n",
       "      <th>2</th>\n",
       "      <td>2877.0</td>\n",
       "      <td>2019-04-25 07:02</td>\n",
       "      <td>1</td>\n",
       "      <td>123</td>\n",
       "    </tr>\n",
       "    <tr>\n",
       "      <th>3</th>\n",
       "      <td>2881.0</td>\n",
       "      <td>2019-04-25 07:34</td>\n",
       "      <td>1</td>\n",
       "      <td>158</td>\n",
       "    </tr>\n",
       "    <tr>\n",
       "      <th>4</th>\n",
       "      <td>2886.0</td>\n",
       "      <td>2019-04-25 08:19</td>\n",
       "      <td>1</td>\n",
       "      <td></td>\n",
       "    </tr>\n",
       "  </tbody>\n",
       "</table>\n",
       "</div>"
      ],
      "text/plain": [
       "       ID              time  recordtype glucose\n",
       "0  2845.0  2019-04-25 00:08           1     109\n",
       "1  2850.0  2019-04-25 00:50           1        \n",
       "2  2877.0  2019-04-25 07:02           1     123\n",
       "3  2881.0  2019-04-25 07:34           1     158\n",
       "4  2886.0  2019-04-25 08:19           1        "
      ]
     },
     "execution_count": 140,
     "metadata": {},
     "output_type": "execute_result"
    }
   ],
   "source": [
    "# CODE YOUR SOLUTION HERE\n",
    "import numpy as np\n",
    "import pandas as pd\n",
    "import json\n",
    "\n",
    "\n",
    "with open('data/glucose.json') as f:\n",
    "    f = json.load(f)    #f is a string\n",
    "    data = pd.read_json(f)\n",
    "    # data = json.loads(f)    #data is a list\n",
    "    # data = json.loads(json.load(f))\n",
    "# print(data)\n",
    "# print(type(data))\n",
    "\n",
    "df = pd.DataFrame(data)\n",
    "df.head()\n",
    "\n",
    "# print(data[0].keys())\n",
    "# a = data['ID'][0]\n",
    "# print(a.keys())\n",
    "\n",
    "\n",
    "# f\n",
    "# data = json.load(f)\n",
    "# data\n",
    "# print(type(data))\n",
    "# print(data.keys())"
   ]
  },
  {
   "cell_type": "markdown",
   "metadata": {},
   "source": [
    "#### Expected outcome: "
   ]
  },
  {
   "cell_type": "raw",
   "metadata": {},
   "source": [
    "       ID              time  recordtype glucose\n",
    "0  2845.0  2019-04-25 00:08           1     109\n",
    "1  2850.0  2019-04-25 00:50           1        \n",
    "2  2877.0  2019-04-25 07:02           1     123\n",
    "3  2881.0  2019-04-25 07:34           1     158\n",
    "4  2886.0  2019-04-25 08:19           1        "
   ]
  },
  {
   "cell_type": "markdown",
   "metadata": {},
   "source": [
    "<a name='1'></a>\n",
    "## Part 2: Prepare the data\n",
    "\n",
    "Check the datatypes of your dataframe. The `glucose` field should be an integer, the `time` field should have a datetime format. If the datatypes are different you should typecast them to the right format.\n",
    "Make sure that your dataset is sorted by the time column\n",
    "\n",
    "\n",
    "<details>    \n",
    "<summary>\n",
    "    <font size=\"3\" color=\"darkgreen\"><b>Hints</b></font>\n",
    "</summary>\n",
    "<ul><li>use astype() method or pandas.DataFrame.to_datetime() for instance</li>\n",
    "    <li>make sure that the empty spaces are filled with NaN. Use errors='coerce'</li>\n",
    "    <li>set_index(), sort_index() and reset_index() are helpful to sort on index</li>\n",
    "</ul>\n",
    "</details>\n",
    "\n",
    "<a name='ex-21'></a>\n",
    "### Code your solution"
   ]
  },
  {
   "cell_type": "code",
   "execution_count": 141,
   "metadata": {},
   "outputs": [
    {
     "name": "stdout",
     "output_type": "stream",
     "text": [
      "time          datetime64[ns]\n",
      "ID                     int64\n",
      "recordtype             int64\n",
      "glucose              float64\n",
      "dtype: object\n",
      "                   time                   ID  recordtype  glucose\n",
      "0   2019-04-25 00:08:00                 2845           1    109.0\n",
      "1   2019-04-25 00:14:00 -9223372036854775808           0      NaN\n",
      "2   2019-04-25 00:29:00 -9223372036854775808           0      NaN\n",
      "3   2019-04-25 00:44:00 -9223372036854775808           0      NaN\n",
      "4   2019-04-25 00:50:00                 2850           1      NaN\n",
      "..                  ...                  ...         ...      ...\n",
      "131 2019-04-25 23:02:00 -9223372036854775808           0      NaN\n",
      "132 2019-04-25 23:18:00 -9223372036854775808           0      NaN\n",
      "133 2019-04-25 23:31:00                 3062           1    111.0\n",
      "134 2019-04-25 23:33:00 -9223372036854775808           0      NaN\n",
      "135 2019-04-25 23:48:00 -9223372036854775808           0      NaN\n",
      "\n",
      "[136 rows x 4 columns]\n"
     ]
    }
   ],
   "source": [
    "# CODE YOUR SOLUTION HERE\n",
    "\n",
    "## replace empty string with np.nan so it can be converted to float\n",
    "df = df.replace(r'^\\s*$', np.nan, regex=True)\n",
    "\n",
    "## change ID to int, time to datetime64[ns] and glucose to float\n",
    "df = df.astype({\"ID\": 'int64', \"time\": 'datetime64[ns]', 'glucose': float})\n",
    "df = df.sort_values('time',axis = 0, ignore_index=True)\n",
    "columns_titles = ['time', 'ID', 'recordtype', 'glucose']\n",
    "df=df.reindex(columns=columns_titles)\n",
    "print(df.dtypes)\n",
    "# df = df.set_index(['time']).sort_index()\n",
    "print(df)\n"
   ]
  },
  {
   "cell_type": "markdown",
   "metadata": {},
   "source": [
    "#### Expected outcome: "
   ]
  },
  {
   "cell_type": "raw",
   "metadata": {},
   "source": [
    "ID                     int64\n",
    "time          datetime64[ns]\n",
    "recordtype             int64\n",
    "glucose              float64\n",
    "dtype: object"
   ]
  },
  {
   "cell_type": "markdown",
   "metadata": {},
   "source": [
    "<a name='2'></a>\n",
    "## Part 3: Inspect the data\n",
    "\n",
    "Now that we prepared the data we are going to inspect the data to get more familiar with the data. You are required to do the following\n",
    "\n",
    "- inspect the percentage missing data for glucose\n",
    "- what is the relationship between recordtype and glucose value?\n",
    "- what is the relationship between ID and glucose value?\n",
    "\n",
    "Code the solutions to your answers. Create meaningful overviews or statistics\n",
    "\n",
    "<details>    \n",
    "<summary>\n",
    "    <font size=\"3\" color=\"darkgreen\"><b>Hints</b></font>\n",
    "</summary>\n",
    "<ul><li>In the week 01 assignment some functions were explained to inspect missing values</li>\n",
    "    <li>In the week 01 assignment some functions were explained to groupby value</li>\n",
    "</ul>\n",
    "</details>\n",
    "\n",
    "<a name='ex-31'></a>\n",
    "### Code your solution"
   ]
  },
  {
   "cell_type": "code",
   "execution_count": 142,
   "metadata": {},
   "outputs": [
    {
     "name": "stdout",
     "output_type": "stream",
     "text": [
      "0.6176470588235294\n"
     ]
    }
   ],
   "source": [
    "#CODE YOUR SOLUTION HERE\n",
    "# print(df)\n",
    "\n",
    "percent_missing = df['glucose'].isnull().sum() / len(df)\n",
    "print(percent_missing)\n",
    "\n",
    "\n"
   ]
  },
  {
   "cell_type": "markdown",
   "metadata": {},
   "source": [
    "#### Expected outcome percentage missing data\n",
    "0.6176470588235294"
   ]
  },
  {
   "cell_type": "markdown",
   "metadata": {},
   "source": [
    "<a name='3'></a>\n",
    "## Part 4: Interpolate the data\n",
    "\n",
    "A lot of data is missing. Use interpolation to fill the missing values. Create a new column with the interpolated data. Take an argumentative approach. Select an interpolation method that suits the nature of the data and explain your choice. Mind you that the expected outcome of the interpolation values can differ from the example below\n",
    "\n",
    "<details>    \n",
    "<summary>\n",
    "    <font size=\"3\" color=\"darkgreen\"><b>Hints</b></font>\n",
    "</summary>\n",
    "<ul><li>use Pandas.DataFrame.interpolate() method</li>\n",
    "</ul>\n",
    "</details>\n",
    "\n",
    "<a name='ex-41'></a>\n",
    "### Code your solution"
   ]
  },
  {
   "cell_type": "code",
   "execution_count": 143,
   "metadata": {},
   "outputs": [
    {
     "name": "stdout",
     "output_type": "stream",
     "text": [
      "                 time                   ID  recordtype  glucose  interpolated  \\\n",
      "0 2019-04-25 00:08:00                 2845           1    109.0    109.000000   \n",
      "1 2019-04-25 00:14:00 -9223372036854775808           0      NaN    109.466667   \n",
      "2 2019-04-25 00:29:00 -9223372036854775808           0      NaN    109.933333   \n",
      "3 2019-04-25 00:44:00 -9223372036854775808           0      NaN    110.400000   \n",
      "4 2019-04-25 00:50:00                 2850           1      NaN    110.866667   \n",
      "\n",
      "   rolling mean  \n",
      "0           NaN  \n",
      "1           NaN  \n",
      "2           NaN  \n",
      "3           NaN  \n",
      "4           NaN  \n"
     ]
    }
   ],
   "source": [
    "#CODE YOUR SOLUTION HERE\n",
    "\n",
    "df['interpolated'] = df['glucose'].interpolate()\n",
    "\n",
    "df['rolling mean'] = df['interpolated'].rolling(10).mean()\n",
    "\n",
    "print(df.head())\n"
   ]
  },
  {
   "cell_type": "markdown",
   "metadata": {},
   "source": [
    "#### Example outcome"
   ]
  },
  {
   "cell_type": "raw",
   "metadata": {},
   "source": [
    "                 time                   ID  recordtype  glucose  interpolated\n",
    "0 2019-04-25 00:08:00                 2845           1    109.0    109.000000\n",
    "1 2019-04-25 00:14:00 -9223372036854775808           0      NaN    109.466667\n",
    "2 2019-04-25 00:29:00 -9223372036854775808           0      NaN    109.933333\n",
    "3 2019-04-25 00:44:00 -9223372036854775808           0      NaN    110.400000\n",
    "4 2019-04-25 00:50:00                 2850           1      NaN    110.866667"
   ]
  },
  {
   "cell_type": "markdown",
   "metadata": {},
   "source": [
    "<a name='4'></a>\n",
    "## Part 5: Plot the data\n",
    "\n",
    "Create a plot with the original data and the interpolated data. Consider what the best representation is for visualisation of actual values and modelled/imputed values. An example of such a plot is given below. This plot however is not considered the best practice. \n",
    "\n",
    "<details>    \n",
    "<summary>\n",
    "    <font size=\"3\" color=\"darkgreen\"><b>Hints</b></font>\n",
    "</summary>\n",
    "<ul><li>figure(x_axis_type='datetime') automatically makes nices labels of the datetime data</li>\n",
    "</ul>\n",
    "</details>\n",
    "\n",
    "<a name='ex-51'></a>\n",
    "### Code your solution"
   ]
  },
  {
   "cell_type": "code",
   "execution_count": 144,
   "metadata": {},
   "outputs": [
    {
     "data": {
      "text/html": [
       "\n",
       "    <div class=\"bk-root\">\n",
       "        <a href=\"https://bokeh.org\" target=\"_blank\" class=\"bk-logo bk-logo-small bk-logo-notebook\"></a>\n",
       "        <span id=\"10559\">Loading BokehJS ...</span>\n",
       "    </div>"
      ]
     },
     "metadata": {},
     "output_type": "display_data"
    },
    {
     "data": {
      "application/javascript": "\n(function(root) {\n  function now() {\n    return new Date();\n  }\n\n  const force = true;\n\n  if (typeof root._bokeh_onload_callbacks === \"undefined\" || force === true) {\n    root._bokeh_onload_callbacks = [];\n    root._bokeh_is_loading = undefined;\n  }\n\n  const JS_MIME_TYPE = 'application/javascript';\n  const HTML_MIME_TYPE = 'text/html';\n  const EXEC_MIME_TYPE = 'application/vnd.bokehjs_exec.v0+json';\n  const CLASS_NAME = 'output_bokeh rendered_html';\n\n  /**\n   * Render data to the DOM node\n   */\n  function render(props, node) {\n    const script = document.createElement(\"script\");\n    node.appendChild(script);\n  }\n\n  /**\n   * Handle when an output is cleared or removed\n   */\n  function handleClearOutput(event, handle) {\n    const cell = handle.cell;\n\n    const id = cell.output_area._bokeh_element_id;\n    const server_id = cell.output_area._bokeh_server_id;\n    // Clean up Bokeh references\n    if (id != null && id in Bokeh.index) {\n      Bokeh.index[id].model.document.clear();\n      delete Bokeh.index[id];\n    }\n\n    if (server_id !== undefined) {\n      // Clean up Bokeh references\n      const cmd_clean = \"from bokeh.io.state import curstate; print(curstate().uuid_to_server['\" + server_id + \"'].get_sessions()[0].document.roots[0]._id)\";\n      cell.notebook.kernel.execute(cmd_clean, {\n        iopub: {\n          output: function(msg) {\n            const id = msg.content.text.trim();\n            if (id in Bokeh.index) {\n              Bokeh.index[id].model.document.clear();\n              delete Bokeh.index[id];\n            }\n          }\n        }\n      });\n      // Destroy server and session\n      const cmd_destroy = \"import bokeh.io.notebook as ion; ion.destroy_server('\" + server_id + \"')\";\n      cell.notebook.kernel.execute(cmd_destroy);\n    }\n  }\n\n  /**\n   * Handle when a new output is added\n   */\n  function handleAddOutput(event, handle) {\n    const output_area = handle.output_area;\n    const output = handle.output;\n\n    // limit handleAddOutput to display_data with EXEC_MIME_TYPE content only\n    if ((output.output_type != \"display_data\") || (!Object.prototype.hasOwnProperty.call(output.data, EXEC_MIME_TYPE))) {\n      return\n    }\n\n    const toinsert = output_area.element.find(\".\" + CLASS_NAME.split(' ')[0]);\n\n    if (output.metadata[EXEC_MIME_TYPE][\"id\"] !== undefined) {\n      toinsert[toinsert.length - 1].firstChild.textContent = output.data[JS_MIME_TYPE];\n      // store reference to embed id on output_area\n      output_area._bokeh_element_id = output.metadata[EXEC_MIME_TYPE][\"id\"];\n    }\n    if (output.metadata[EXEC_MIME_TYPE][\"server_id\"] !== undefined) {\n      const bk_div = document.createElement(\"div\");\n      bk_div.innerHTML = output.data[HTML_MIME_TYPE];\n      const script_attrs = bk_div.children[0].attributes;\n      for (let i = 0; i < script_attrs.length; i++) {\n        toinsert[toinsert.length - 1].firstChild.setAttribute(script_attrs[i].name, script_attrs[i].value);\n        toinsert[toinsert.length - 1].firstChild.textContent = bk_div.children[0].textContent\n      }\n      // store reference to server id on output_area\n      output_area._bokeh_server_id = output.metadata[EXEC_MIME_TYPE][\"server_id\"];\n    }\n  }\n\n  function register_renderer(events, OutputArea) {\n\n    function append_mime(data, metadata, element) {\n      // create a DOM node to render to\n      const toinsert = this.create_output_subarea(\n        metadata,\n        CLASS_NAME,\n        EXEC_MIME_TYPE\n      );\n      this.keyboard_manager.register_events(toinsert);\n      // Render to node\n      const props = {data: data, metadata: metadata[EXEC_MIME_TYPE]};\n      render(props, toinsert[toinsert.length - 1]);\n      element.append(toinsert);\n      return toinsert\n    }\n\n    /* Handle when an output is cleared or removed */\n    events.on('clear_output.CodeCell', handleClearOutput);\n    events.on('delete.Cell', handleClearOutput);\n\n    /* Handle when a new output is added */\n    events.on('output_added.OutputArea', handleAddOutput);\n\n    /**\n     * Register the mime type and append_mime function with output_area\n     */\n    OutputArea.prototype.register_mime_type(EXEC_MIME_TYPE, append_mime, {\n      /* Is output safe? */\n      safe: true,\n      /* Index of renderer in `output_area.display_order` */\n      index: 0\n    });\n  }\n\n  // register the mime type if in Jupyter Notebook environment and previously unregistered\n  if (root.Jupyter !== undefined) {\n    const events = require('base/js/events');\n    const OutputArea = require('notebook/js/outputarea').OutputArea;\n\n    if (OutputArea.prototype.mime_types().indexOf(EXEC_MIME_TYPE) == -1) {\n      register_renderer(events, OutputArea);\n    }\n  }\n\n  \n  if (typeof (root._bokeh_timeout) === \"undefined\" || force === true) {\n    root._bokeh_timeout = Date.now() + 5000;\n    root._bokeh_failed_load = false;\n  }\n\n  const NB_LOAD_WARNING = {'data': {'text/html':\n     \"<div style='background-color: #fdd'>\\n\"+\n     \"<p>\\n\"+\n     \"BokehJS does not appear to have successfully loaded. If loading BokehJS from CDN, this \\n\"+\n     \"may be due to a slow or bad network connection. Possible fixes:\\n\"+\n     \"</p>\\n\"+\n     \"<ul>\\n\"+\n     \"<li>re-rerun `output_notebook()` to attempt to load from CDN again, or</li>\\n\"+\n     \"<li>use INLINE resources instead, as so:</li>\\n\"+\n     \"</ul>\\n\"+\n     \"<code>\\n\"+\n     \"from bokeh.resources import INLINE\\n\"+\n     \"output_notebook(resources=INLINE)\\n\"+\n     \"</code>\\n\"+\n     \"</div>\"}};\n\n  function display_loaded() {\n    const el = document.getElementById(\"10559\");\n    if (el != null) {\n      el.textContent = \"BokehJS is loading...\";\n    }\n    if (root.Bokeh !== undefined) {\n      if (el != null) {\n        el.textContent = \"BokehJS \" + root.Bokeh.version + \" successfully loaded.\";\n      }\n    } else if (Date.now() < root._bokeh_timeout) {\n      setTimeout(display_loaded, 100)\n    }\n  }\n\n\n  function run_callbacks() {\n    try {\n      root._bokeh_onload_callbacks.forEach(function(callback) {\n        if (callback != null)\n          callback();\n      });\n    } finally {\n      delete root._bokeh_onload_callbacks\n    }\n    console.debug(\"Bokeh: all callbacks have finished\");\n  }\n\n  function load_libs(css_urls, js_urls, callback) {\n    if (css_urls == null) css_urls = [];\n    if (js_urls == null) js_urls = [];\n\n    root._bokeh_onload_callbacks.push(callback);\n    if (root._bokeh_is_loading > 0) {\n      console.debug(\"Bokeh: BokehJS is being loaded, scheduling callback at\", now());\n      return null;\n    }\n    if (js_urls == null || js_urls.length === 0) {\n      run_callbacks();\n      return null;\n    }\n    console.debug(\"Bokeh: BokehJS not loaded, scheduling load and callback at\", now());\n    root._bokeh_is_loading = css_urls.length + js_urls.length;\n\n    function on_load() {\n      root._bokeh_is_loading--;\n      if (root._bokeh_is_loading === 0) {\n        console.debug(\"Bokeh: all BokehJS libraries/stylesheets loaded\");\n        run_callbacks()\n      }\n    }\n\n    function on_error(url) {\n      console.error(\"failed to load \" + url);\n    }\n\n    for (let i = 0; i < css_urls.length; i++) {\n      const url = css_urls[i];\n      const element = document.createElement(\"link\");\n      element.onload = on_load;\n      element.onerror = on_error.bind(null, url);\n      element.rel = \"stylesheet\";\n      element.type = \"text/css\";\n      element.href = url;\n      console.debug(\"Bokeh: injecting link tag for BokehJS stylesheet: \", url);\n      document.body.appendChild(element);\n    }\n\n    for (let i = 0; i < js_urls.length; i++) {\n      const url = js_urls[i];\n      const element = document.createElement('script');\n      element.onload = on_load;\n      element.onerror = on_error.bind(null, url);\n      element.async = false;\n      element.src = url;\n      console.debug(\"Bokeh: injecting script tag for BokehJS library: \", url);\n      document.head.appendChild(element);\n    }\n  };\n\n  function inject_raw_css(css) {\n    const element = document.createElement(\"style\");\n    element.appendChild(document.createTextNode(css));\n    document.body.appendChild(element);\n  }\n\n  \n  const js_urls = [\"https://cdn.bokeh.org/bokeh/release/bokeh-2.4.1.min.js\", \"https://cdn.bokeh.org/bokeh/release/bokeh-gl-2.4.1.min.js\", \"https://cdn.bokeh.org/bokeh/release/bokeh-widgets-2.4.1.min.js\", \"https://cdn.bokeh.org/bokeh/release/bokeh-tables-2.4.1.min.js\", \"https://cdn.bokeh.org/bokeh/release/bokeh-mathjax-2.4.1.min.js\"];\n  const css_urls = [];\n  \n\n  const inline_js = [\n    function(Bokeh) {\n      Bokeh.set_log_level(\"info\");\n    },\n    function(Bokeh) {\n    \n    \n    }\n  ];\n\n  function run_inline_js() {\n    \n    if (root.Bokeh !== undefined || force === true) {\n      \n    for (let i = 0; i < inline_js.length; i++) {\n      inline_js[i].call(root, root.Bokeh);\n    }\n    if (force === true) {\n        display_loaded();\n      }} else if (Date.now() < root._bokeh_timeout) {\n      setTimeout(run_inline_js, 100);\n    } else if (!root._bokeh_failed_load) {\n      console.log(\"Bokeh: BokehJS failed to load within specified timeout.\");\n      root._bokeh_failed_load = true;\n    } else if (force !== true) {\n      const cell = $(document.getElementById(\"10559\")).parents('.cell').data().cell;\n      cell.output_area.append_execute_result(NB_LOAD_WARNING)\n    }\n\n  }\n\n  if (root._bokeh_is_loading === 0) {\n    console.debug(\"Bokeh: BokehJS loaded, going straight to plotting\");\n    run_inline_js();\n  } else {\n    load_libs(css_urls, js_urls, function() {\n      console.debug(\"Bokeh: BokehJS plotting callback run at\", now());\n      run_inline_js();\n    });\n  }\n}(window));",
      "application/vnd.bokehjs_load.v0+json": ""
     },
     "metadata": {},
     "output_type": "display_data"
    }
   ],
   "source": [
    "from bokeh.io import output_notebook\n",
    "from bokeh.plotting import figure, show\n",
    "from bokeh.layouts import gridplot\n",
    "from bokeh.io import output_notebook\n",
    "from bokeh.plotting import ColumnDataSource\n",
    "from bokeh.models import CustomJS, Dropdown\n",
    "output_notebook()"
   ]
  },
  {
   "cell_type": "code",
   "execution_count": 145,
   "metadata": {},
   "outputs": [
    {
     "data": {
      "text/html": [
       "\n",
       "\n",
       "\n",
       "\n",
       "\n",
       "\n",
       "  <div class=\"bk-root\" id=\"d1a06039-cbc3-494a-b56c-dbd305467924\" data-root-id=\"10561\"></div>\n"
      ]
     },
     "metadata": {},
     "output_type": "display_data"
    },
    {
     "data": {
      "application/javascript": "(function(root) {\n  function embed_document(root) {\n    \n  const docs_json = {\"78c4c3f2-bfc8-4b7c-82c2-883fb23cf580\":{\"defs\":[],\"roots\":{\"references\":[{\"attributes\":{\"below\":[{\"id\":\"10570\"}],\"center\":[{\"id\":\"10573\"},{\"id\":\"10577\"},{\"id\":\"10621\"}],\"left\":[{\"id\":\"10574\"}],\"renderers\":[{\"id\":\"10596\"},{\"id\":\"10627\"},{\"id\":\"10657\"}],\"title\":{\"id\":\"10598\"},\"toolbar\":{\"id\":\"10585\"},\"x_range\":{\"id\":\"10562\"},\"x_scale\":{\"id\":\"10566\"},\"y_range\":{\"id\":\"10564\"},\"y_scale\":{\"id\":\"10568\"}},\"id\":\"10561\",\"subtype\":\"Figure\",\"type\":\"Plot\"},{\"attributes\":{\"fill_alpha\":{\"value\":0.2},\"fill_color\":{\"value\":\"blue\"},\"hatch_alpha\":{\"value\":0.2},\"hatch_color\":{\"value\":\"blue\"},\"line_alpha\":{\"value\":0.2},\"line_color\":{\"value\":\"blue\"},\"line_width\":{\"value\":4},\"marker\":{\"value\":\"triangle\"},\"x\":{\"field\":\"time\"},\"y\":{\"field\":\"glucose\"}},\"id\":\"10626\",\"type\":\"Scatter\"},{\"attributes\":{},\"id\":\"10566\",\"type\":\"LinearScale\"},{\"attributes\":{\"source\":{\"id\":\"10560\"}},\"id\":\"10658\",\"type\":\"CDSView\"},{\"attributes\":{\"line_color\":\"green\",\"line_width\":2,\"x\":{\"field\":\"time\"},\"y\":{\"field\":\"rolling mean\"}},\"id\":\"10654\",\"type\":\"Line\"},{\"attributes\":{\"num_minor_ticks\":5,\"tickers\":[{\"id\":\"10609\"},{\"id\":\"10610\"},{\"id\":\"10611\"},{\"id\":\"10612\"},{\"id\":\"10613\"},{\"id\":\"10614\"},{\"id\":\"10615\"},{\"id\":\"10616\"},{\"id\":\"10617\"},{\"id\":\"10618\"},{\"id\":\"10619\"},{\"id\":\"10620\"}]},\"id\":\"10571\",\"type\":\"DatetimeTicker\"},{\"attributes\":{\"coordinates\":null,\"group\":null,\"text\":\"Click on legend entries to hide the corresponding lines\"},\"id\":\"10598\",\"type\":\"Title\"},{\"attributes\":{\"bottom_units\":\"screen\",\"coordinates\":null,\"fill_alpha\":0.5,\"fill_color\":\"lightgrey\",\"group\":null,\"left_units\":\"screen\",\"level\":\"overlay\",\"line_alpha\":1.0,\"line_color\":\"black\",\"line_dash\":[4,4],\"line_width\":2,\"right_units\":\"screen\",\"syncable\":false,\"top_units\":\"screen\"},\"id\":\"10584\",\"type\":\"BoxAnnotation\"},{\"attributes\":{\"label\":{\"value\":\"Data\"},\"renderers\":[{\"id\":\"10627\"}]},\"id\":\"10652\",\"type\":\"LegendItem\"},{\"attributes\":{\"tools\":[{\"id\":\"10578\"},{\"id\":\"10579\"},{\"id\":\"10580\"},{\"id\":\"10581\"},{\"id\":\"10582\"},{\"id\":\"10583\"}]},\"id\":\"10585\",\"type\":\"Toolbar\"},{\"attributes\":{\"coordinates\":null,\"data_source\":{\"id\":\"10560\"},\"glyph\":{\"id\":\"10624\"},\"group\":null,\"hover_glyph\":null,\"muted_glyph\":{\"id\":\"10626\"},\"nonselection_glyph\":{\"id\":\"10625\"},\"view\":{\"id\":\"10628\"}},\"id\":\"10627\",\"type\":\"GlyphRenderer\"},{\"attributes\":{\"axis_label\":\"time\",\"coordinates\":null,\"formatter\":{\"id\":\"10604\"},\"group\":null,\"major_label_policy\":{\"id\":\"10605\"},\"ticker\":{\"id\":\"10571\"}},\"id\":\"10570\",\"type\":\"DatetimeAxis\"},{\"attributes\":{\"source\":{\"id\":\"10560\"}},\"id\":\"10628\",\"type\":\"CDSView\"},{\"attributes\":{},\"id\":\"10601\",\"type\":\"BasicTickFormatter\"},{\"attributes\":{\"mantissas\":[1,2,5],\"max_interval\":500.0,\"num_minor_ticks\":0},\"id\":\"10609\",\"type\":\"AdaptiveTicker\"},{\"attributes\":{\"data\":{\"ID\":[2845,-9223372036854775808,-9223372036854775808,-9223372036854775808,2850,-9223372036854775808,-9223372036854775808,-9223372036854775808,-9223372036854775808,-9223372036854775808,-9223372036854775808,-9223372036854775808,-9223372036854775808,-9223372036854775808,-9223372036854775808,-9223372036854775808,-9223372036854775808,-9223372036854775808,-9223372036854775808,-9223372036854775808,-9223372036854775808,-9223372036854775808,-9223372036854775808,-9223372036854775808,-9223372036854775808,-9223372036854775808,-9223372036854775808,-9223372036854775808,-9223372036854775808,-9223372036854775808,2877,-9223372036854775808,-9223372036854775808,2881,-9223372036854775808,-9223372036854775808,-9223372036854775808,2886,-9223372036854775808,-9223372036854775808,-9223372036854775808,-9223372036854775808,-9223372036854775808,-9223372036854775808,-9223372036854775808,-9223372036854775808,-9223372036854775808,-9223372036854775808,-9223372036854775808,2899,-9223372036854775808,-9223372036854775808,-9223372036854775808,-9223372036854775808,-9223372036854775808,-9223372036854775808,-9223372036854775808,-9223372036854775808,2909,-9223372036854775808,-9223372036854775808,2916,-9223372036854775808,2922,2925,2927,2929,2932,2935,2937,2940,2942,2944,2947,2949,2951,-9223372036854775808,2954,-9223372036854775808,2957,-9223372036854775808,2960,2969,2971,2974,2976,2979,2981,2983,2985,2987,-9223372036854775808,2990,2992,2994,2996,-9223372036854775808,2999,3001,3003,3005,-9223372036854775808,3008,3010,3012,-9223372036854775808,3026,-9223372036854775808,3029,3031,-9223372036854775808,3034,-9223372036854775808,-9223372036854775808,-9223372036854775808,-9223372036854775808,-9223372036854775808,-9223372036854775808,-9223372036854775808,3043,-9223372036854775808,-9223372036854775808,3047,-9223372036854775808,3050,-9223372036854775808,-9223372036854775808,-9223372036854775808,3055,-9223372036854775808,3058,-9223372036854775808,-9223372036854775808,3062,-9223372036854775808,-9223372036854775808],\"glucose\":{\"__ndarray__\":\"AAAAAABAW0AAAAAAAAD4fwAAAAAAAPh/AAAAAAAA+H8AAAAAAAD4fwAAAAAAAPh/AAAAAAAA+H8AAAAAAAD4fwAAAAAAAPh/AAAAAAAA+H8AAAAAAAD4fwAAAAAAAPh/AAAAAAAA+H8AAAAAAAD4fwAAAAAAAPh/AAAAAAAA+H8AAAAAAAD4fwAAAAAAAPh/AAAAAAAA+H8AAAAAAAD4fwAAAAAAAPh/AAAAAAAA+H8AAAAAAAD4fwAAAAAAAPh/AAAAAAAA+H8AAAAAAAD4fwAAAAAAAPh/AAAAAAAA+H8AAAAAAAD4fwAAAAAAAPh/AAAAAADAXkAAAAAAAAD4fwAAAAAAAPh/AAAAAADAY0AAAAAAAAD4fwAAAAAAAPh/AAAAAAAA+H8AAAAAAAD4fwAAAAAAAPh/AAAAAAAA+H8AAAAAAAD4fwAAAAAAAPh/AAAAAAAA+H8AAAAAAAD4fwAAAAAAAPh/AAAAAAAA+H8AAAAAAAD4fwAAAAAAAPh/AAAAAAAA+H8AAAAAAGBhQAAAAAAAAPh/AAAAAAAA+H8AAAAAAAD4fwAAAAAAAPh/AAAAAAAA+H8AAAAAAAD4fwAAAAAAAPh/AAAAAAAA+H8AAAAAAOBiQAAAAAAAAPh/AAAAAAAA+H8AAAAAACBgQAAAAAAAAPh/AAAAAAAgZEAAAAAAAABnQAAAAAAAQGZAAAAAAABAZkAAAAAAAEBeQAAAAAAAwFtAAAAAAACAWkAAAAAAAMBWQAAAAAAAQFhAAAAAAACAWkAAAAAAAIBaQAAAAAAAQFhAAAAAAACAVUAAAAAAAAD4fwAAAAAAgFxAAAAAAAAA+H8AAAAAACBgQAAAAAAAAPh/AAAAAACAXUAAAAAAAIBdQAAAAAAAwFxAAAAAAABAWkAAAAAAAEBbQAAAAAAAwFpAAAAAAADAW0AAAAAAAABeQAAAAAAAIGFAAAAAAADAYEAAAAAAAAD4fwAAAAAAIGBAAAAAAABAX0AAAAAAAIBeQAAAAAAAAF9AAAAAAAAA+H8AAAAAAMBfQAAAAAAAQF5AAAAAAADAXkAAAAAAAIBeQAAAAAAAAPh/AAAAAAAAX0AAAAAAAIBfQAAAAAAAAGBAAAAAAAAA+H8AAAAAAIBbQAAAAAAAAPh/AAAAAAAAYEAAAAAAAABdQAAAAAAAAPh/AAAAAACAWkAAAAAAAAD4fwAAAAAAAPh/AAAAAAAA+H8AAAAAAAD4fwAAAAAAAPh/AAAAAAAA+H8AAAAAAAD4fwAAAAAA4GJAAAAAAAAA+H8AAAAAAAD4fwAAAAAAgF9AAAAAAAAA+H8AAAAAAEBgQAAAAAAAAPh/AAAAAAAA+H8AAAAAAAD4fwAAAAAAgFxAAAAAAAAA+H8AAAAAAIBaQAAAAAAAAPh/AAAAAAAA+H8AAAAAAMBbQAAAAAAAAPh/AAAAAAAA+H8=\",\"dtype\":\"float64\",\"order\":\"little\",\"shape\":[136]},\"index\":[0,1,2,3,4,5,6,7,8,9,10,11,12,13,14,15,16,17,18,19,20,21,22,23,24,25,26,27,28,29,30,31,32,33,34,35,36,37,38,39,40,41,42,43,44,45,46,47,48,49,50,51,52,53,54,55,56,57,58,59,60,61,62,63,64,65,66,67,68,69,70,71,72,73,74,75,76,77,78,79,80,81,82,83,84,85,86,87,88,89,90,91,92,93,94,95,96,97,98,99,100,101,102,103,104,105,106,107,108,109,110,111,112,113,114,115,116,117,118,119,120,121,122,123,124,125,126,127,128,129,130,131,132,133,134,135],\"interpolated\":{\"__ndarray__\":\"AAAAAABAW0De3d3d3V1bQLy7u7u7e1tAmpmZmZmZW0B3d3d3d7dbQFVVVVVV1VtAMzMzMzPzW0ARERERERFcQO/u7u7uLlxAzczMzMxMXECrqqqqqmpcQImIiIiIiFxAZmZmZmamXEBERERERMRcQCIiIiIi4lxAAAAAAAAAXUDe3d3d3R1dQLy7u7u7O11AmpmZmZlZXUB4d3d3d3ddQFVVVVVVlV1AMzMzMzOzXUAREREREdFdQO/u7u7u7l1AzczMzMwMXkCrqqqqqipeQIiIiIiISF5AZmZmZmZmXkBERERERIReQCIiIiIiol5AAAAAAADAXkBVVVVVVdVgQKuqqqqqSmJAAAAAAADAY0AAAAAAAJpjQAAAAAAAdGNAAAAAAABOY0AAAAAAAChjQAAAAAAAAmNAAAAAAADcYkAAAAAAALZiQAAAAAAAkGJAAAAAAABqYkAAAAAAAERiQAAAAAAAHmJAAAAAAAD4YUAAAAAAANJhQAAAAAAArGFAAAAAAACGYUAAAAAAAGBhQKuqqqqqimFAVVVVVVW1YUAAAAAAAOBhQKuqqqqqCmJAVVVVVVU1YkAAAAAAAGBiQKuqqqqqimJAVVVVVVW1YkAAAAAAAOBiQFVVVVVV9WFAq6qqqqoKYUAAAAAAACBgQAAAAAAAIGJAAAAAAAAgZEAAAAAAAABnQAAAAAAAQGZAAAAAAABAZkAAAAAAAEBeQAAAAAAAwFtAAAAAAACAWkAAAAAAAMBWQAAAAAAAQFhAAAAAAACAWkAAAAAAAIBaQAAAAAAAQFhAAAAAAACAVUAAAAAAAABZQAAAAAAAgFxAAAAAAABgXkAAAAAAACBgQAAAAAAA4F5AAAAAAACAXUAAAAAAAIBdQAAAAAAAwFxAAAAAAABAWkAAAAAAAEBbQAAAAAAAwFpAAAAAAADAW0AAAAAAAABeQAAAAAAAIGFAAAAAAADAYEAAAAAAAHBgQAAAAAAAIGBAAAAAAABAX0AAAAAAAIBeQAAAAAAAAF9AAAAAAABgX0AAAAAAAMBfQAAAAAAAQF5AAAAAAADAXkAAAAAAAIBeQAAAAAAAwF5AAAAAAAAAX0AAAAAAAIBfQAAAAAAAAGBAAAAAAADAXUAAAAAAAIBbQAAAAAAAwF1AAAAAAAAAYEAAAAAAAABdQAAAAAAAwFtAAAAAAACAWkAAAAAAAOhbQAAAAAAAUF1AAAAAAAC4XkAAAAAAABBgQAAAAAAAxGBAAAAAAAB4YUAAAAAAACxiQAAAAAAA4GJAVVVVVVXVYUCrqqqqqspgQAAAAAAAgF9AAAAAAAAAYEAAAAAAAEBgQAAAAAAAgF9AAAAAAACAXkAAAAAAAIBdQAAAAAAAgFxAAAAAAACAW0AAAAAAAIBaQKuqqqqq6lpAVVVVVVVVW0AAAAAAAMBbQAAAAAAAwFtAAAAAAADAW0A=\",\"dtype\":\"float64\",\"order\":\"little\",\"shape\":[136]},\"recordtype\":[1,0,0,0,1,0,0,0,0,0,0,0,0,0,0,0,0,0,0,0,0,0,0,0,0,0,0,0,0,0,1,0,0,1,0,0,0,1,0,0,0,0,0,0,0,0,0,0,0,1,0,0,0,0,0,0,0,0,1,0,0,1,0,1,1,1,1,1,1,1,1,1,1,1,1,1,0,1,0,1,0,1,1,1,1,1,1,1,1,1,1,0,1,1,1,1,0,1,1,1,1,0,1,1,1,0,1,0,1,1,0,1,0,0,0,0,0,0,0,1,0,0,1,0,1,0,0,0,1,0,1,0,0,1,0,0],\"rolling mean\":{\"__ndarray__\":\"AAAAAAAA+H8AAAAAAAD4fwAAAAAAAPh/AAAAAAAA+H8AAAAAAAD4fwAAAAAAAPh/AAAAAAAA+H8AAAAAAAD4fwAAAAAAAPh/ZmZmZmbGW0BFRERERORbQCIiIiIiAlxAAAAAAAAgXEDd3d3d3T1cQL27u7u7W1xAmpmZmZl5XEB4d3d3d5dcQFZVVVVVtVxAMzMzMzPTXEASEREREfFcQO7u7u7uDl1AzczMzMwsXUCqqqqqqkpdQIiIiIiIaF1AZmZmZmaGXUBFRERERKRdQCIiIiIiwl1AAAAAAADgXUDe3d3d3f1dQLu7u7u7G15AmpmZmZk5XkDAWPKLJZ9eQC35xZJfTF9AcT0K16MgYEDNzMzMzJVgQKqqqqqqBWFACtejcD1wYUDrUbgehdVhQE4b6LSBNWJAMzMzMzOQYkCamZmZmeViQN7d3d3dEWNAAAAAAAAVY0AAAAAAAO9iQAAAAAAAyWJAAAAAAACjYkAAAAAAAH1iQAAAAAAAV2JAAAAAAAAxYkAAAAAAAAtiQBERERER7WFAMzMzMzPXYUBmZmZmZslhQKqqqqqqw2FAAAAAAADGYUBmZmZmZtBhQN7d3d3d4mFAZmZmZmb9YUAAAAAAACBiQO/u7u7uLmJAIiIiIiIiYkCamZmZmflhQAAAAAAAAGJAVlVVVVU1YkAAAAAAALBiQDMzMzMzE2NAIiIiIiJyY0BmZmZmZhZjQGZmZmZmlmJA3t3d3d0dYkDNzMzMzIxhQGZmZmZmJmFAmpmZmZmpYEAzMzMzM/NfQGZmZmZmxl1AmpmZmZl5W0BmZmZmZoZZQJqZmZmZWVlAzczMzMycWUAAAAAAADBaQAAAAAAAAFtAZmZmZmaGW0AzMzMzM9NbQM3MzMzMDFxAAAAAAABAXEAzMzMzM9NcQAAAAAAAAF1AzczMzMzsXEAzMzMzM+NcQGZmZmZmFl1AmpmZmZlZXUAAAAAAALBdQGZmZmZm9l1AZmZmZmY2XkAzMzMzM6NeQDMzMzMzA19AmpmZmZl5X0AAAAAAAOBfQGZmZmZm5l9AzczMzMyMX0AAAAAAAEBfQJqZmZmZCV9AmpmZmZnpXkAAAAAAAPBeQGZmZmZmFl9AZmZmZmb2XkAzMzMzM5NeQAAAAAAAYF5AzczMzMyMXkAAAAAAAGBeQJqZmZmZGV5AzczMzMysXUCamZmZmV1dQJqZmZmZJV1AzczMzMwEXUCamZmZmUFdQAAAAAAA3F1AzczMzMxgXkAAAAAAANBeQAAAAAAAsF9AVlVVVVU9YEAAAAAAAJhgQAAAAAAAxmBAZmZmZmboYEAzMzMzM/9gQDMzMzMz92BAZmZmZmbQYEDNzMzMzIpgQGZmZmZmJmBAZmZmZmZGX0C7u7u7u1teQBIRERERsV1AZmZmZmZGXUCamZmZmdlcQAAAAAAAYFxAAAAAAAAAXEA=\",\"dtype\":\"float64\",\"order\":\"little\",\"shape\":[136]},\"time\":{\"__ndarray__\":\"AABwIB2ldkIAAFR4HaV2QgAADlQepXZCAADILx+ldkIAAKyHH6V2QgAAggsgpXZCAAA85yCldkIAAPbCIaV2QgAAsJ4ipXZCAABqeiOldkIAACRWJKV2QgAA3jElpXZCAACYDSaldkIAAFLpJqV2QgAADMUnpXZCAADGoCildkIAAIB8KaV2QgAAOlgqpXZCAAD0MyuldkIAAK4PLKV2QgAAaOsspXZCAAAixy2ldkIAANyiLqV2QgAAln4vpXZCAABQWjCldkIAAAo2MaV2QgAAxBEypXZCAAB+7TKldkIAADjJM6V2QgAAmLM0pXZCAADk0DSldkIAAFKPNaV2QgAADGs2pXZCAACkpTaldkIAAMZGN6V2QgAAgCI4pXZCAADgDDmldkIAANI4OaV2QgAAmug5pXZCAABUxDqldkIAAA6gO6V2QgAAyHs8pXZCAACCVz2ldkIAADwzPqV2QgAA9g4/pXZCAACw6j+ldkIAAGrGQKV2QgAAJKJBpXZCAADefUKldkIAAN59QqV2QgAAmFlDpXZCAABSNUSldkIAAAwRRaV2QgAAxuxFpXZCAACAyEaldkIAADqkR6V2QgAA9H9IpXZCAACuW0mldkIAABwaSqV2QgAAaDdKpXZCAABQpk2ldkIAAPa0TaV2QgAACoJOpXZCAAAeT0+ldkIAAJrhT6V2QgAAMhxQpXZCAADYKlCldkIAAPrLUKV2QgAAhDJRpXZCAAAcbVGldkIAANZIUqV2QgAAfFdSpXZCAABgr1KldkIAAFLbUqV2QgAA6hVTpXZCAACCUFOldkIAAGaoU6V2QgAA1GZUpXZCAADGklSldkIAAJwWVaV2QgAA2l9VpXZCAABymlWldkIAAB6iVqV2QgAAThdXpXZCAADKqVeldkIAALzVV6V2QgAA+h5YpXZCAABGPFildkIAAJJZWKV2QgAAhIVYpXZCAAAcwFildkIAAGjdWKV2QgAADuxYpXZCAAC0+lildkIAAJhSWaV2QgAA5G9ZpXZCAAAiuVmldkIAAG7WWaV2QgAABhFapXZCAACeS1qldkIAADaGWqV2QgAANoZapXZCAAAoslqldkIAAGb7WqV2QgAA/jVbpXZCAACWcFuldkIAAO5/XaV2QgAAxANepXZCAABOal6ldkIAADLCXqV2QgAAft9epXZCAABGj1+ldkIAADi7X6V2QgAA8pZgpXZCAACscmGldkIAAGZOYqV2QgAAICpjpXZCAADaBWSldkIAADrwZKV2QgAAEHRlpXZCAAD0y2WldkIAAK6nZqV2QgAAhCtnpXZCAABog2eldkIAAHxQaKV2QgAAIl9opXZCAADcOmmldkIAAJYWaqV2QgAALlFqpXZCAACq42qldkIAAEIea6V2QgAAZL9rpXZCAADEqWyldkIAADJobaV2QgAAfoVtpXZCAAA4YW6ldkI=\",\"dtype\":\"float64\",\"order\":\"little\",\"shape\":[136]}},\"selected\":{\"id\":\"10607\"},\"selection_policy\":{\"id\":\"10606\"}},\"id\":\"10560\",\"type\":\"ColumnDataSource\"},{\"attributes\":{},\"id\":\"10568\",\"type\":\"LinearScale\"},{\"attributes\":{},\"id\":\"10602\",\"type\":\"AllLabels\"},{\"attributes\":{},\"id\":\"10579\",\"type\":\"WheelZoomTool\"},{\"attributes\":{\"base\":60,\"mantissas\":[1,2,5,10,15,20,30],\"max_interval\":1800000.0,\"min_interval\":1000.0,\"num_minor_ticks\":0},\"id\":\"10610\",\"type\":\"AdaptiveTicker\"},{\"attributes\":{\"source\":{\"id\":\"10560\"}},\"id\":\"10597\",\"type\":\"CDSView\"},{\"attributes\":{},\"id\":\"10582\",\"type\":\"ResetTool\"},{\"attributes\":{\"base\":24,\"mantissas\":[1,2,4,6,8,12],\"max_interval\":43200000.0,\"min_interval\":3600000.0,\"num_minor_ticks\":0},\"id\":\"10611\",\"type\":\"AdaptiveTicker\"},{\"attributes\":{},\"id\":\"10620\",\"type\":\"YearsTicker\"},{\"attributes\":{},\"id\":\"10604\",\"type\":\"DatetimeTickFormatter\"},{\"attributes\":{},\"id\":\"10581\",\"type\":\"SaveTool\"},{\"attributes\":{\"months\":[0,1,2,3,4,5,6,7,8,9,10,11]},\"id\":\"10616\",\"type\":\"MonthsTicker\"},{\"attributes\":{\"fill_alpha\":{\"value\":0.1},\"fill_color\":{\"value\":\"blue\"},\"hatch_alpha\":{\"value\":0.1},\"hatch_color\":{\"value\":\"blue\"},\"line_alpha\":{\"value\":0.1},\"line_color\":{\"value\":\"blue\"},\"line_width\":{\"value\":4},\"marker\":{\"value\":\"triangle\"},\"x\":{\"field\":\"time\"},\"y\":{\"field\":\"glucose\"}},\"id\":\"10625\",\"type\":\"Scatter\"},{\"attributes\":{\"days\":[1,15]},\"id\":\"10615\",\"type\":\"DaysTicker\"},{\"attributes\":{\"days\":[1,2,3,4,5,6,7,8,9,10,11,12,13,14,15,16,17,18,19,20,21,22,23,24,25,26,27,28,29,30,31]},\"id\":\"10612\",\"type\":\"DaysTicker\"},{\"attributes\":{},\"id\":\"10605\",\"type\":\"AllLabels\"},{\"attributes\":{\"days\":[1,4,7,10,13,16,19,22,25,28]},\"id\":\"10613\",\"type\":\"DaysTicker\"},{\"attributes\":{\"overlay\":{\"id\":\"10584\"}},\"id\":\"10580\",\"type\":\"BoxZoomTool\"},{\"attributes\":{\"days\":[1,8,15,22]},\"id\":\"10614\",\"type\":\"DaysTicker\"},{\"attributes\":{\"click_policy\":\"hide\",\"coordinates\":null,\"group\":null,\"items\":[{\"id\":\"10622\"},{\"id\":\"10652\"},{\"id\":\"10682\"}],\"location\":\"top_left\"},\"id\":\"10621\",\"type\":\"Legend\"},{\"attributes\":{\"months\":[0,6]},\"id\":\"10619\",\"type\":\"MonthsTicker\"},{\"attributes\":{},\"id\":\"10578\",\"type\":\"PanTool\"},{\"attributes\":{\"months\":[0,2,4,6,8,10]},\"id\":\"10617\",\"type\":\"MonthsTicker\"},{\"attributes\":{\"fill_color\":{\"value\":\"blue\"},\"hatch_color\":{\"value\":\"blue\"},\"line_color\":{\"value\":\"blue\"},\"line_width\":{\"value\":4},\"marker\":{\"value\":\"triangle\"},\"x\":{\"field\":\"time\"},\"y\":{\"field\":\"glucose\"}},\"id\":\"10624\",\"type\":\"Scatter\"},{\"attributes\":{\"axis\":{\"id\":\"10570\"},\"coordinates\":null,\"group\":null,\"ticker\":null},\"id\":\"10573\",\"type\":\"Grid\"},{\"attributes\":{\"months\":[0,4,8]},\"id\":\"10618\",\"type\":\"MonthsTicker\"},{\"attributes\":{},\"id\":\"10575\",\"type\":\"BasicTicker\"},{\"attributes\":{\"line_color\":\"red\",\"line_width\":2,\"x\":{\"field\":\"time\"},\"y\":{\"field\":\"interpolated\"}},\"id\":\"10593\",\"type\":\"Line\"},{\"attributes\":{\"axis\":{\"id\":\"10574\"},\"coordinates\":null,\"dimension\":1,\"group\":null,\"ticker\":null},\"id\":\"10577\",\"type\":\"Grid\"},{\"attributes\":{},\"id\":\"10564\",\"type\":\"DataRange1d\"},{\"attributes\":{\"axis_label\":\"glucose\",\"coordinates\":null,\"formatter\":{\"id\":\"10601\"},\"group\":null,\"major_label_policy\":{\"id\":\"10602\"},\"ticker\":{\"id\":\"10575\"}},\"id\":\"10574\",\"type\":\"LinearAxis\"},{\"attributes\":{\"line_alpha\":0.2,\"line_color\":\"green\",\"line_width\":2,\"x\":{\"field\":\"time\"},\"y\":{\"field\":\"rolling mean\"}},\"id\":\"10656\",\"type\":\"Line\"},{\"attributes\":{},\"id\":\"10606\",\"type\":\"UnionRenderers\"},{\"attributes\":{\"line_alpha\":0.1,\"line_color\":\"green\",\"line_width\":2,\"x\":{\"field\":\"time\"},\"y\":{\"field\":\"rolling mean\"}},\"id\":\"10655\",\"type\":\"Line\"},{\"attributes\":{\"label\":{\"value\":\"Rolling mean\"},\"renderers\":[{\"id\":\"10657\"}]},\"id\":\"10682\",\"type\":\"LegendItem\"},{\"attributes\":{},\"id\":\"10607\",\"type\":\"Selection\"},{\"attributes\":{},\"id\":\"10562\",\"type\":\"DataRange1d\"},{\"attributes\":{},\"id\":\"10583\",\"type\":\"HelpTool\"},{\"attributes\":{\"coordinates\":null,\"data_source\":{\"id\":\"10560\"},\"glyph\":{\"id\":\"10593\"},\"group\":null,\"hover_glyph\":null,\"muted_glyph\":{\"id\":\"10595\"},\"nonselection_glyph\":{\"id\":\"10594\"},\"view\":{\"id\":\"10597\"}},\"id\":\"10596\",\"type\":\"GlyphRenderer\"},{\"attributes\":{\"label\":{\"value\":\"Interpolated\"},\"renderers\":[{\"id\":\"10596\"}]},\"id\":\"10622\",\"type\":\"LegendItem\"},{\"attributes\":{\"line_alpha\":0.2,\"line_color\":\"red\",\"line_width\":2,\"x\":{\"field\":\"time\"},\"y\":{\"field\":\"interpolated\"}},\"id\":\"10595\",\"type\":\"Line\"},{\"attributes\":{\"coordinates\":null,\"data_source\":{\"id\":\"10560\"},\"glyph\":{\"id\":\"10654\"},\"group\":null,\"hover_glyph\":null,\"muted_glyph\":{\"id\":\"10656\"},\"nonselection_glyph\":{\"id\":\"10655\"},\"view\":{\"id\":\"10658\"}},\"id\":\"10657\",\"type\":\"GlyphRenderer\"},{\"attributes\":{\"line_alpha\":0.1,\"line_color\":\"red\",\"line_width\":2,\"x\":{\"field\":\"time\"},\"y\":{\"field\":\"interpolated\"}},\"id\":\"10594\",\"type\":\"Line\"}],\"root_ids\":[\"10561\"]},\"title\":\"Bokeh Application\",\"version\":\"2.4.1\"}};\n  const render_items = [{\"docid\":\"78c4c3f2-bfc8-4b7c-82c2-883fb23cf580\",\"root_ids\":[\"10561\"],\"roots\":{\"10561\":\"d1a06039-cbc3-494a-b56c-dbd305467924\"}}];\n  root.Bokeh.embed.embed_items_notebook(docs_json, render_items);\n\n  }\n  if (root.Bokeh !== undefined) {\n    embed_document(root);\n  } else {\n    let attempts = 0;\n    const timer = setInterval(function(root) {\n      if (root.Bokeh !== undefined) {\n        clearInterval(timer);\n        embed_document(root);\n      } else {\n        attempts++;\n        if (attempts > 100) {\n          clearInterval(timer);\n          console.log(\"Bokeh: ERROR: Unable to run BokehJS code because BokehJS library is missing\");\n        }\n      }\n    }, 10, root)\n  }\n})(window);",
      "application/vnd.bokehjs_exec.v0+json": ""
     },
     "metadata": {
      "application/vnd.bokehjs_exec.v0+json": {
       "id": "10561"
      }
     },
     "output_type": "display_data"
    },
    {
     "data": {
      "text/html": [
       "\n",
       "\n",
       "\n",
       "\n",
       "\n",
       "\n",
       "  <div class=\"bk-root\" id=\"499b5fde-2681-4834-93e6-5b8a2b04883f\" data-root-id=\"11259\"></div>\n"
      ]
     },
     "metadata": {},
     "output_type": "display_data"
    },
    {
     "data": {
      "application/javascript": "(function(root) {\n  function embed_document(root) {\n    \n  const docs_json = {\"561543b2-410f-45b2-88e4-7f761dcbfa51\":{\"defs\":[],\"roots\":{\"references\":[{\"attributes\":{\"button_type\":\"warning\",\"icon\":null,\"js_event_callbacks\":{\"menu_item_click\":[{\"id\":\"11260\"}]},\"label\":\"Dropdown button\",\"menu\":[[\"Item 1\",\"item_1\"],[\"Item 2\",\"item_2\"]]},\"id\":\"11259\",\"type\":\"Dropdown\"},{\"attributes\":{\"code\":\"console.log('dropdown: ' + this.item, this.toString())\"},\"id\":\"11260\",\"type\":\"CustomJS\"}],\"root_ids\":[\"11259\"]},\"title\":\"Bokeh Application\",\"version\":\"2.4.1\"}};\n  const render_items = [{\"docid\":\"561543b2-410f-45b2-88e4-7f761dcbfa51\",\"root_ids\":[\"11259\"],\"roots\":{\"11259\":\"499b5fde-2681-4834-93e6-5b8a2b04883f\"}}];\n  root.Bokeh.embed.embed_items_notebook(docs_json, render_items);\n\n  }\n  if (root.Bokeh !== undefined) {\n    embed_document(root);\n  } else {\n    let attempts = 0;\n    const timer = setInterval(function(root) {\n      if (root.Bokeh !== undefined) {\n        clearInterval(timer);\n        embed_document(root);\n      } else {\n        attempts++;\n        if (attempts > 100) {\n          clearInterval(timer);\n          console.log(\"Bokeh: ERROR: Unable to run BokehJS code because BokehJS library is missing\");\n        }\n      }\n    }, 10, root)\n  }\n})(window);",
      "application/vnd.bokehjs_exec.v0+json": ""
     },
     "metadata": {
      "application/vnd.bokehjs_exec.v0+json": {
       "id": "11259"
      }
     },
     "output_type": "display_data"
    }
   ],
   "source": [
    "#CODE YOUR SOLUTION HERE\n",
    "source = ColumnDataSource(df)\n",
    "p = figure(x_axis_type = 'datetime')\n",
    "p.line(x='time', y='interpolated', line_width = 2, source=source, color = 'red', legend_label='Interpolated')\n",
    "p.triangle(x='time', y='glucose', line_width = 4, source=source, color = 'blue', legend_label='Data')\n",
    "p.line(x='time', y='rolling mean', line_width = 2, source=source, color = 'green', legend_label='Rolling mean')\n",
    "p.title.text = 'Click on legend entries to hide the corresponding lines'\n",
    "\n",
    "p.legend.location = \"top_left\"\n",
    "p.legend.click_policy=\"hide\"\n",
    "\n",
    "p.xaxis.axis_label = 'time'\n",
    "p.yaxis.axis_label = 'glucose'\n",
    "\n",
    "\n",
    "\n",
    "\n",
    "show(p)\n",
    "\n",
    "## Add dropdown menu for interpolation options\n",
    "\n",
    "## Dropdown for interpolation options:\n",
    "menu = [(\"Item 1\", \"item_1\"), (\"Item 2\", \"item_2\")]\n",
    "dropdown = Dropdown(label=\"Dropdown button\", button_type=\"warning\", menu=menu)\n",
    "dropdown.js_on_event(\"menu_item_click\", CustomJS(code=\"console.log('dropdown: ' + this.item, this.toString())\"))\n",
    "show(dropdown)\n",
    "\n",
    "\n",
    "\n",
    "\n"
   ]
  },
  {
   "cell_type": "markdown",
   "metadata": {},
   "source": [
    "<a name='6'></a>\n",
    "## Part 6: Challenge\n",
    "\n",
    "It might even be interesting to introduce a widget in which you can select different methods to interpolate.\n",
    "1. Can you improve the interpolation by choosing an other method?\n",
    "2. Can you add an rolling mean line? \n",
    "2. Can you improve the plot by making it interactive?\n",
    "\n",
    "<a name='ex-61'></a>\n",
    "### Code your solution"
   ]
  },
  {
   "cell_type": "code",
   "execution_count": 146,
   "metadata": {},
   "outputs": [],
   "source": [
    "#CODE YOUR SOLUTION HERE\n"
   ]
  }
 ],
 "metadata": {
  "kernelspec": {
   "display_name": "Python 3",
   "language": "python",
   "name": "python3"
  },
  "language_info": {
   "codemirror_mode": {
    "name": "ipython",
    "version": 3
   },
   "file_extension": ".py",
   "mimetype": "text/x-python",
   "name": "python",
   "nbconvert_exporter": "python",
   "pygments_lexer": "ipython3",
   "version": "3.9.7"
  }
 },
 "nbformat": 4,
 "nbformat_minor": 4
}
