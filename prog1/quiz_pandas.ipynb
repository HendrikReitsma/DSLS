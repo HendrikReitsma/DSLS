{
 "cells": [
  {
   "cell_type": "markdown",
   "metadata": {},
   "source": [
    "## Exercise pandas\n",
    "\n",
    "The TB_burden_age_sex_2019-04-23.csv for 2017 from the site https://www.who.int/tb/country/data/download/en/ can be found on the data folder. In this exercise you will open the file with `pd.read_csv()` method and do the following cleaning\n",
    "\n",
    "- drop the collumns iso2, iso3, iso_numeric. \n",
    "- rename the collumn age_group to age\n",
    "\n",
    "After that you answer the questions 0 to 4."
   ]
  },
  {
   "cell_type": "code",
   "execution_count": 7,
   "metadata": {},
   "outputs": [
    {
     "data": {
      "text/html": [
       "<div>\n",
       "<style scoped>\n",
       "    .dataframe tbody tr th:only-of-type {\n",
       "        vertical-align: middle;\n",
       "    }\n",
       "\n",
       "    .dataframe tbody tr th {\n",
       "        vertical-align: top;\n",
       "    }\n",
       "\n",
       "    .dataframe thead th {\n",
       "        text-align: right;\n",
       "    }\n",
       "</style>\n",
       "<table border=\"1\" class=\"dataframe\">\n",
       "  <thead>\n",
       "    <tr style=\"text-align: right;\">\n",
       "      <th></th>\n",
       "      <th>country</th>\n",
       "      <th>year</th>\n",
       "      <th>measure</th>\n",
       "      <th>unit</th>\n",
       "      <th>age_group</th>\n",
       "      <th>sex</th>\n",
       "      <th>best</th>\n",
       "      <th>lo</th>\n",
       "      <th>hi</th>\n",
       "    </tr>\n",
       "  </thead>\n",
       "  <tbody>\n",
       "    <tr>\n",
       "      <th>0</th>\n",
       "      <td>Afghanistan</td>\n",
       "      <td>2017</td>\n",
       "      <td>inc</td>\n",
       "      <td>num</td>\n",
       "      <td>0-14</td>\n",
       "      <td>a</td>\n",
       "      <td>7500</td>\n",
       "      <td>4300.0</td>\n",
       "      <td>11000.0</td>\n",
       "    </tr>\n",
       "    <tr>\n",
       "      <th>1</th>\n",
       "      <td>Afghanistan</td>\n",
       "      <td>2017</td>\n",
       "      <td>inc</td>\n",
       "      <td>num</td>\n",
       "      <td>0-14</td>\n",
       "      <td>f</td>\n",
       "      <td>3600</td>\n",
       "      <td>1400.0</td>\n",
       "      <td>5800.0</td>\n",
       "    </tr>\n",
       "    <tr>\n",
       "      <th>2</th>\n",
       "      <td>Afghanistan</td>\n",
       "      <td>2017</td>\n",
       "      <td>inc</td>\n",
       "      <td>num</td>\n",
       "      <td>0-14</td>\n",
       "      <td>m</td>\n",
       "      <td>4000</td>\n",
       "      <td>1500.0</td>\n",
       "      <td>6400.0</td>\n",
       "    </tr>\n",
       "    <tr>\n",
       "      <th>3</th>\n",
       "      <td>Afghanistan</td>\n",
       "      <td>2017</td>\n",
       "      <td>inc</td>\n",
       "      <td>num</td>\n",
       "      <td>0-4</td>\n",
       "      <td>f</td>\n",
       "      <td>1800</td>\n",
       "      <td>0.0</td>\n",
       "      <td>4400.0</td>\n",
       "    </tr>\n",
       "    <tr>\n",
       "      <th>4</th>\n",
       "      <td>Afghanistan</td>\n",
       "      <td>2017</td>\n",
       "      <td>inc</td>\n",
       "      <td>num</td>\n",
       "      <td>0-4</td>\n",
       "      <td>m</td>\n",
       "      <td>2200</td>\n",
       "      <td>0.0</td>\n",
       "      <td>5400.0</td>\n",
       "    </tr>\n",
       "  </tbody>\n",
       "</table>\n",
       "</div>"
      ],
      "text/plain": [
       "       country  year measure unit age_group sex  best      lo       hi\n",
       "0  Afghanistan  2017     inc  num      0-14   a  7500  4300.0  11000.0\n",
       "1  Afghanistan  2017     inc  num      0-14   f  3600  1400.0   5800.0\n",
       "2  Afghanistan  2017     inc  num      0-14   m  4000  1500.0   6400.0\n",
       "3  Afghanistan  2017     inc  num       0-4   f  1800     0.0   4400.0\n",
       "4  Afghanistan  2017     inc  num       0-4   m  2200     0.0   5400.0"
      ]
     },
     "execution_count": 7,
     "metadata": {},
     "output_type": "execute_result"
    }
   ],
   "source": [
    "import pandas as pd\n",
    "import numpy as np\n",
    "# write your read function here\n",
    "df = pd.read_csv(\"data\\TB_burden_age_sex_2019-04-23.csv\")\n",
    "df = df.drop(columns={'iso2', 'iso3', 'iso_numeric'})\n",
    "df.head()\n",
    "\n"
   ]
  },
  {
   "cell_type": "markdown",
   "metadata": {},
   "source": [
    "### Question 0 (Example)\n",
    "\n",
    "What is the first country in your dataframe df? This function should return a Series\n"
   ]
  },
  {
   "cell_type": "code",
   "execution_count": 8,
   "metadata": {},
   "outputs": [
    {
     "data": {
      "text/plain": [
       "'Afghanistan'"
      ]
     },
     "execution_count": 8,
     "metadata": {},
     "output_type": "execute_result"
    }
   ],
   "source": [
    "def answer_zero():\n",
    "    return df.iloc[0,0]\n",
    "\n",
    "answer_zero() "
   ]
  },
  {
   "cell_type": "markdown",
   "metadata": {},
   "source": [
    "### Question 1\n",
    "\n",
    "Which country has the highest estimate of TB?\n",
    "\n",
    "This function should return a the string India."
   ]
  },
  {
   "cell_type": "code",
   "execution_count": 9,
   "metadata": {},
   "outputs": [
    {
     "data": {
      "text/plain": [
       "'India'"
      ]
     },
     "execution_count": 9,
     "metadata": {},
     "output_type": "execute_result"
    }
   ],
   "source": [
    "def answer_one(df):\n",
    "    #only show 'sex' a\n",
    "    df = df[df['sex'] == 'a']\n",
    "    #only show 'age_group' all\n",
    "    df = df[df['age_group'] == 'all']\n",
    "    df = df.sort_values('best', ascending = False)\n",
    "    highest = df.iloc[0,0]\n",
    "\n",
    "    return highest #write your code here\n",
    "\n",
    "answer_one(df)\n",
    "\n"
   ]
  },
  {
   "cell_type": "markdown",
   "metadata": {},
   "source": [
    "### Question 2\n",
    "\n",
    "Which country has the smallest difference between high and low estimates?"
   ]
  },
  {
   "cell_type": "code",
   "execution_count": 10,
   "metadata": {},
   "outputs": [
    {
     "name": "stdout",
     "output_type": "stream",
     "text": [
      "           country  year measure unit age_group sex  best   lo   hi  delta\n",
      "65  American Samoa  2017     inc  num       all   a     6  5.0  7.0    2.0\n"
     ]
    },
    {
     "data": {
      "text/plain": [
       "'Turks and Caicos Islands'"
      ]
     },
     "execution_count": 10,
     "metadata": {},
     "output_type": "execute_result"
    }
   ],
   "source": [
    "def answer_two(df):\n",
    "    #only show 'sex' a\n",
    "    df = df[df['sex'] == 'a']\n",
    "    #only show 'age_group' all\n",
    "    df = df[df['age_group'] == 'all']\n",
    "    # print(df)\n",
    "    df['delta'] = df['hi'] - df['lo']\n",
    "    df = df.sort_values('delta', ascending = True)\n",
    "    df = df.dropna()\n",
    "    lowest = df.iloc[0,0]\n",
    "    print(df[df['country'] == 'American Samoa'])\n",
    "    return lowest #write your code here, should return American Samoa\n",
    "\n",
    "answer_two(df) # should return American Samoa\n",
    "\n",
    "# df['delta'] = df['hi'] - df['lo']\n",
    "# df"
   ]
  },
  {
   "cell_type": "markdown",
   "metadata": {},
   "source": [
    "### Question 3\n",
    "\n",
    "How many countries have 65plus records?"
   ]
  },
  {
   "cell_type": "code",
   "execution_count": 11,
   "metadata": {},
   "outputs": [
    {
     "data": {
      "text/plain": [
       "119"
      ]
     },
     "execution_count": 11,
     "metadata": {},
     "output_type": "execute_result"
    }
   ],
   "source": [
    "def answer_three(df):\n",
    "    df = df[df['age_group'] == '65plus'] \n",
    "    unique_countries_65plus = df['country'].nunique()\n",
    "    return unique_countries_65plus # write your code here, should return 119\n",
    "\n",
    "answer_three(df) # should return 119\n",
    "\n",
    "# print(df)      "
   ]
  },
  {
   "cell_type": "markdown",
   "metadata": {},
   "source": [
    "### Question 4\n",
    "\n",
    "Select the females and exclude the 'age = all' records. What are the top 5 countries that have the two most highest 'best estimates'? \n"
   ]
  },
  {
   "cell_type": "code",
   "execution_count": 36,
   "metadata": {},
   "outputs": [
    {
     "data": {
      "text/plain": [
       "country\n",
       "India          1084000\n",
       "Indonesia       393000\n",
       "China           296000\n",
       "Pakistan        252000\n",
       "Philippines     173000\n",
       "dtype: int64"
      ]
     },
     "execution_count": 36,
     "metadata": {},
     "output_type": "execute_result"
    }
   ],
   "source": [
    "def answer_four(df):\n",
    "    df = df[df['sex'] == 'f']\n",
    "    df = df[df['age_group'] != 'all']\n",
    "    group = df.groupby('country')\n",
    "    df2 = group.apply(lambda x: x['best'].nlargest(2).sum())\n",
    "    df2 = df2.sort_values(ascending = False)\n",
    "    top5_countries = df2.iloc[0:5]\n",
    "\n",
    "    return top5_countries\n",
    "\n",
    "answer_four(df)\n",
    "\n",
    "#write your code here, should return this\n",
    "# \"\"\"\n",
    "# India          1084000\n",
    "# Indonesia       393000\n",
    "# China           296000\n",
    "# Pakistan        252000\n",
    "# Philippines     173000\n",
    "# \"\"\"\n"
   ]
  }
 ],
 "metadata": {
  "kernelspec": {
   "display_name": "Python 3",
   "language": "python",
   "name": "python3"
  },
  "language_info": {
   "codemirror_mode": {
    "name": "ipython",
    "version": 3
   },
   "file_extension": ".py",
   "mimetype": "text/x-python",
   "name": "python",
   "nbconvert_exporter": "python",
   "pygments_lexer": "ipython3",
   "version": "3.9.7"
  }
 },
 "nbformat": 4,
 "nbformat_minor": 2
}
